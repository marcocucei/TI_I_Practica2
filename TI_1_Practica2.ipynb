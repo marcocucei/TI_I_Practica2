{
  "cells": [
    {
      "cell_type": "markdown",
      "id": "bbeb0c1e",
      "metadata": {
        "id": "bbeb0c1e"
      },
      "source": [
        "# Práctica 2\n",
        "\n",
        "**Nombre:** Nombre del estudiante\n",
        "\n",
        "**e-mail:** correo_del_estudiante@alumnos.udg.mx"
      ]
    },
    {
      "cell_type": "markdown",
      "id": "a31326d0",
      "metadata": {
        "id": "a31326d0"
      },
      "source": [
        "## MODULES"
      ]
    },
    {
      "cell_type": "code",
      "execution_count": null,
      "id": "9c33a472",
      "metadata": {
        "id": "9c33a472"
      },
      "outputs": [],
      "source": [
        "import math\n",
        "import numpy as np\n",
        "import matplotlib.pyplot as plt\n",
        "import pandas as pd\n",
        "\n",
        "from plotly.subplots import make_subplots\n",
        "import plotly.graph_objects as go\n",
        "\n",
        "\n",
        "from scipy.stats import wrapcauchy\n",
        "from scipy.stats import levy_stable"
      ]
    },
    {
      "cell_type": "markdown",
      "id": "eea985c3",
      "metadata": {
        "id": "eea985c3"
      },
      "source": [
        "## CLASSES"
      ]
    },
    {
      "cell_type": "code",
      "execution_count": null,
      "id": "e2ee1ad4",
      "metadata": {
        "id": "e2ee1ad4"
      },
      "outputs": [],
      "source": [
        "################# http://www.pygame.org/wiki/2DVectorClass ##################\n",
        "class Vec2d(object):\n",
        "    \"\"\"2d vector class, supports vector and scalar operators,\n",
        "       and also provides a bunch of high level functions\n",
        "       \"\"\"\n",
        "    __slots__ = ['x', 'y']\n",
        "\n",
        "    def __init__(self, x_or_pair, y = None):\n",
        "        if y == None:\n",
        "            self.x = x_or_pair[0]\n",
        "            self.y = x_or_pair[1]\n",
        "        else:\n",
        "            self.x = x_or_pair\n",
        "            self.y = y\n",
        "\n",
        "    # Addition\n",
        "    def __add__(self, other):\n",
        "        if isinstance(other, Vec2d):\n",
        "            return Vec2d(self.x + other.x, self.y + other.y)\n",
        "        elif hasattr(other, \"__getitem__\"):\n",
        "            return Vec2d(self.x + other[0], self.y + other[1])\n",
        "        else:\n",
        "            return Vec2d(self.x + other, self.y + other)\n",
        "\n",
        "    # Subtraction\n",
        "    def __sub__(self, other):\n",
        "        if isinstance(other, Vec2d):\n",
        "            return Vec2d(self.x - other.x, self.y - other.y)\n",
        "        elif (hasattr(other, \"__getitem__\")):\n",
        "            return Vec2d(self.x - other[0], self.y - other[1])\n",
        "        else:\n",
        "            return Vec2d(self.x - other, self.y - other)\n",
        "\n",
        "    # Vector length\n",
        "    def get_length(self):\n",
        "        return math.sqrt(self.x**2 + self.y**2)\n",
        "\n",
        "    # rotate vector\n",
        "    def rotated(self, angle):\n",
        "        cos = math.cos(angle)\n",
        "        sin = math.sin(angle)\n",
        "        x = self.x*cos - self.y*sin\n",
        "        y = self.x*sin + self.y*cos\n",
        "        return Vec2d(x, y)"
      ]
    },
    {
      "cell_type": "markdown",
      "id": "680109c9",
      "metadata": {
        "id": "680109c9"
      },
      "source": []
    },
    {
      "cell_type": "markdown",
      "id": "308b81d9",
      "metadata": {
        "id": "308b81d9"
      },
      "source": [
        "## Actividad 1: Lévy distribution - N Curves (3 pts)\n",
        "\n",
        "* Generar al menos las 4 curvas de distribución timpo Lévy stable que se observan en la imagen.\n",
        "* Visualizar con **plotly**.\n",
        "\n",
        "* Parametros m = 3.0, Levy_exponent = x, beta = 0"
      ]
    },
    {
      "cell_type": "code",
      "execution_count": null,
      "id": "58627d1c",
      "metadata": {
        "id": "58627d1c"
      },
      "outputs": [],
      "source": []
    },
    {
      "cell_type": "markdown",
      "id": "c4ea7d32",
      "metadata": {
        "id": "c4ea7d32"
      },
      "source": [
        "## Actividad 2: Lévy distribution - Histogram + Curve (4 pts)\n",
        "\n",
        "* A partir de un conjunto de valores aleatorios extraidos de una distribución tipo Lévy stable, obtener su histograma y comparar con la curva correspondiente PDF.\n",
        "* Visualizar con **matplotlib**."
      ]
    },
    {
      "cell_type": "code",
      "execution_count": null,
      "id": "7c5082a3",
      "metadata": {
        "id": "7c5082a3"
      },
      "outputs": [],
      "source": []
    },
    {
      "cell_type": "markdown",
      "id": "bcc0bb18",
      "metadata": {
        "id": "bcc0bb18"
      },
      "source": [
        "## Actividad 3: Lévy ﬂight - Vec2d - 1 Trajectory (6 pts)\n",
        "\n",
        "* Utilizar **Vec2d**.\n",
        "* Guardar trayectorias en **Pandas** Data Frame.\n",
        "* Visualizar proyección en 3d con **plotly**."
      ]
    },
    {
      "cell_type": "code",
      "execution_count": null,
      "id": "147f549b",
      "metadata": {
        "id": "147f549b"
      },
      "outputs": [],
      "source": []
    },
    {
      "cell_type": "markdown",
      "id": "6bc5c5b6",
      "metadata": {
        "id": "6bc5c5b6"
      },
      "source": [
        "## Actividad 4: Correlated Random Walk - Vec2d - N Trajectories (7 pts)\n",
        "\n",
        "* Generar tantas trayectorias tipo CRW como se especifique en una variable **n_traj**.\n",
        "* Cada una de las trayectorias debera tener un coeficiente de Cauchy diferente.\n",
        "* Utilizar **Vec2d**.\n",
        "* Guardar trayectorias en **Pandas** Data Frame.\n",
        "* Visualizar proyección en 3d con **plotly**.\n",
        "* Exportar el Data Frame con las trayectorias a un archivo tipo *pkl*."
      ]
    },
    {
      "cell_type": "code",
      "execution_count": null,
      "id": "68b774d1",
      "metadata": {
        "id": "68b774d1"
      },
      "outputs": [],
      "source": []
    }
  ],
  "metadata": {
    "colab": {
      "provenance": []
    },
    "kernelspec": {
      "display_name": "py310_nb",
      "language": "python",
      "name": "py310_nb"
    },
    "language_info": {
      "codemirror_mode": {
        "name": "ipython",
        "version": 3
      },
      "file_extension": ".py",
      "mimetype": "text/x-python",
      "name": "python",
      "nbconvert_exporter": "python",
      "pygments_lexer": "ipython3",
      "version": "3.10.5"
    }
  },
  "nbformat": 4,
  "nbformat_minor": 5
}